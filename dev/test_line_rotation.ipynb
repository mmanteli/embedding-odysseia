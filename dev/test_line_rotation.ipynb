{
 "cells": [
  {
   "cell_type": "code",
   "execution_count": 1,
   "metadata": {},
   "outputs": [],
   "source": [
    "import numpy as np"
   ]
  },
  {
   "cell_type": "code",
   "execution_count": 2,
   "id": "e5f0a360",
   "metadata": {},
   "outputs": [],
   "source": [
    "def straight_path(vec1, vec2, n=20):\n",
    "    \"\"\"Return a straight unidistance line between two inputs.\"\"\"\n",
    "    vec1 = np.asarray(vec1)\n",
    "    vec2 = np.asarray(vec2)\n",
    "    #print(vec1.shape)\n",
    "    #print(vec2.shape)\n",
    "    assert vec1.shape == vec2.shape, \"Got vectors with unmatched dimensions in straight path calculation.\"\n",
    "    # Interpolate along the path\n",
    "    return np.array([vec1 + (vec2 - vec1) * t for t in np.linspace(0, 1, n)])\n",
    "\n",
    "def transform_line(line, translation, rotation):\n",
    "    \"\"\"Translate and rotate a line by given vectors.\"\"\"\n",
    "    # rotate:\n",
    "    rot = np.linspace(-np.sin(0.25*rotation), np.sin(0.25*rotation), len(line))\n",
    "    new_line = line + rot\n",
    "    #new_line = line\n",
    "    # translate\n",
    "    return new_line + translation"
   ]
  },
  {
   "cell_type": "code",
   "execution_count": 3,
   "id": "9483448c",
   "metadata": {},
   "outputs": [],
   "source": [
    "start = np.array([0,0,0])\n",
    "end = np.array([1,-1,1])\n",
    "n_steps = 20\n",
    "original_line = straight_path(start, end, n=n_steps)\n",
    "\n",
    "n_lines = 10\n",
    "\n",
    "random_translation_vec = (np.random.random((n_lines, start.shape[0]))-0.5)*0.3\n",
    "random_rotation_vec = (2*np.pi*(np.random.random((n_lines, start.shape[0]))-0.5))*0\n",
    "#print(random_rotation_vec)\n",
    "#print(random_translation_vec)\n",
    "\n",
    "\n",
    "new_lines = []\n",
    "for t,r in zip(random_translation_vec, random_rotation_vec):\n",
    "    new_line = transform_line(original_line, t, r)\n",
    "    new_lines.append(new_line)\n"
   ]
  },
  {
   "cell_type": "code",
   "execution_count": 4,
   "id": "73a1af3b",
   "metadata": {},
   "outputs": [
    {
     "ename": "ModuleNotFoundError",
     "evalue": "No module named 'plotly'",
     "output_type": "error",
     "traceback": [
      "\u001b[31m---------------------------------------------------------------------------\u001b[39m",
      "\u001b[31mModuleNotFoundError\u001b[39m                       Traceback (most recent call last)",
      "\u001b[36mCell\u001b[39m\u001b[36m \u001b[39m\u001b[32mIn[4]\u001b[39m\u001b[32m, line 1\u001b[39m\n\u001b[32m----> \u001b[39m\u001b[32m1\u001b[39m \u001b[38;5;28;01mimport\u001b[39;00m\u001b[38;5;250m \u001b[39m\u001b[34;01mplotly\u001b[39;00m\u001b[34;01m.\u001b[39;00m\u001b[34;01mgraph_objects\u001b[39;00m\u001b[38;5;250m \u001b[39m\u001b[38;5;28;01mas\u001b[39;00m\u001b[38;5;250m \u001b[39m\u001b[34;01mgo\u001b[39;00m\n\u001b[32m      3\u001b[39m lines = new_lines\n\u001b[32m      5\u001b[39m fig = go.Figure()\n",
      "\u001b[31mModuleNotFoundError\u001b[39m: No module named 'plotly'"
     ]
    }
   ],
   "source": [
    "import plotly.graph_objects as go\n",
    "\n",
    "lines = new_lines\n",
    "\n",
    "fig = go.Figure()\n",
    "\n",
    "# Add each line as a separate Scatter3d trace\n",
    "for line in lines:\n",
    "    xs, ys, zs = zip(*line)\n",
    "    fig.add_trace(go.Scatter3d(\n",
    "        x=xs,\n",
    "        y=ys,\n",
    "        z=zs,\n",
    "        mode='lines+markers',  # Use 'lines' or 'lines+markers' as needed\n",
    "        line=dict(width=4),\n",
    "        marker=dict(size=3)\n",
    "    ))\n",
    "oxs, oys, ozs = zip(*original_line)\n",
    "fig.add_trace(go.Scatter3d(\n",
    "    x=oxs,\n",
    "    y=oys,\n",
    "    z=ozs,\n",
    "    mode='lines+markers',  # Use 'lines' or 'lines+markers' as needed\n",
    "    line=dict(width=7),\n",
    "    marker=dict(size=8),\n",
    "))\n",
    "\n",
    "# Optional: Set layout options\n",
    "fig.update_layout(\n",
    "    scene=dict(\n",
    "        xaxis_title='X',\n",
    "        yaxis_title='Y',\n",
    "        zaxis_title='Z'\n",
    "    ),\n",
    "    title='3D Line Plot',\n",
    "    margin=dict(l=0, r=0, b=0, t=30)\n",
    ")\n",
    "\n",
    "fig.show()\n"
   ]
  },
  {
   "cell_type": "code",
   "execution_count": null,
   "id": "ec5c3420",
   "metadata": {},
   "outputs": [],
   "source": []
  }
 ],
 "metadata": {
  "kernelspec": {
   "display_name": "Python 3",
   "language": "python",
   "name": "python3"
  },
  "language_info": {
   "codemirror_mode": {
    "name": "ipython",
    "version": 3
   },
   "file_extension": ".py",
   "mimetype": "text/x-python",
   "name": "python",
   "nbconvert_exporter": "python",
   "pygments_lexer": "ipython3",
   "version": "3.12.8"
  }
 },
 "nbformat": 4,
 "nbformat_minor": 5
}
